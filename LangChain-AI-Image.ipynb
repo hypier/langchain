{
 "cells": [
  {
   "cell_type": "markdown",
   "source": [
    "# AI 图像识别\n",
    "\n",
    "利用LangChina框架实现基于OpenAI的图像识别应用"
   ],
   "metadata": {
    "collapsed": false
   },
   "id": "30811a77c65f2426"
  },
  {
   "cell_type": "markdown",
   "source": [
    "## 1. 必备名安装"
   ],
   "metadata": {
    "collapsed": false
   },
   "id": "2a48818bf5bc276b"
  },
  {
   "cell_type": "code",
   "outputs": [],
   "source": [
    "!pip install langchain transformers python-dotenv\n",
    "!pip install langchain-openai "
   ],
   "metadata": {
    "collapsed": true
   },
   "id": "initial_id",
   "execution_count": null
  },
  {
   "cell_type": "markdown",
   "source": [
    "## 2. 引入函数"
   ],
   "metadata": {
    "collapsed": false
   },
   "id": "e4cc5332435ca93a"
  },
  {
   "cell_type": "code",
   "outputs": [],
   "source": [
    "from langchain.agents import initialize_agent\n",
    "from langchain_openai import ChatOpenAI\n",
    "from langchain.chains.conversation.memory import ConversationBufferWindowMemory\n",
    "import os"
   ],
   "metadata": {
    "collapsed": false
   },
   "id": "b3851104172b4f97",
   "execution_count": null
  },
  {
   "cell_type": "code",
   "outputs": [],
   "source": [
    "from dotenv import find_dotenv, load_dotenv\n",
    "load_dotenv(find_dotenv())"
   ],
   "metadata": {
    "collapsed": false
   },
   "id": "bdfe17ee80cd1a59",
   "execution_count": null
  },
  {
   "cell_type": "code",
   "outputs": [],
   "source": [
    "llm = ChatOpenAI(temperature=0, model_name='gpt-3.5-turbo')\n"
   ],
   "metadata": {
    "collapsed": false
   },
   "id": "15e5846a815227c7",
   "execution_count": null
  },
  {
   "cell_type": "markdown",
   "source": [
    "## 3. 引入模型\n",
    "\n",
    "这里使用的是BLIP的多模态模型"
   ],
   "metadata": {
    "collapsed": false
   },
   "id": "878bc991b84b5c3d"
  },
  {
   "cell_type": "code",
   "outputs": [],
   "source": [
    "#!pip install torch\n",
    "!pip install pillow"
   ],
   "metadata": {
    "collapsed": false
   },
   "id": "9fb317e2f9452d9f",
   "execution_count": null
  },
  {
   "cell_type": "code",
   "outputs": [],
   "source": [
    "from transformers import BlipProcessor, BlipForConditionalGeneration\n",
    "image_to_text_model = \"Salesforce/blip-image-captioning-large\"\n",
    "\n",
    "processor = BlipProcessor.from_pretrained(\"Salesforce/blip-image-captioning-large\")\n",
    "model = BlipForConditionalGeneration.from_pretrained(\"Salesforce/blip-image-captioning-large\")\n"
   ],
   "metadata": {
    "collapsed": false
   },
   "id": "f0c39c128f57b958",
   "execution_count": null
  },
  {
   "cell_type": "markdown",
   "source": [
    "## 4. 分析模型"
   ],
   "metadata": {
    "collapsed": false
   },
   "id": "e9b4adce6045214b"
  },
  {
   "cell_type": "code",
   "outputs": [],
   "source": [
    "import requests\n",
    "from PIL import Image\n",
    "\n",
    "def describeImage(image_url):\n",
    "    image = Image.open(requests.get(image_url, stream=True).raw).convert('RGB')\n",
    "    \n",
    "    inputs = processor(image, return_tensors='pt')\n",
    "    outputs = model.generate(**inputs)\n",
    "    \n",
    "    return processor.decode(outputs[0], skip_special_tokens=True)"
   ],
   "metadata": {
    "collapsed": false
   },
   "id": "be85ff0fbf2a2c43",
   "execution_count": null
  },
  {
   "cell_type": "code",
   "outputs": [],
   "source": [
    "description = describeImage(\"https://images.unsplash.com/photo-1673207520321-c27d09eb0955?ixlib=rb-4.0.3&ixid=MnwxMjA3fDB8MHxwaG90by1wYWdlfHx8fGVufDB8fHx8&auto=format&fit=crop&w=1035&q=80\")"
   ],
   "metadata": {
    "collapsed": false
   },
   "id": "a7cac01c92da73a",
   "execution_count": null
  },
  {
   "cell_type": "code",
   "outputs": [],
   "source": [
    "description"
   ],
   "metadata": {
    "collapsed": false
   },
   "id": "5f4c57ded7384649",
   "execution_count": null
  },
  {
   "cell_type": "markdown",
   "source": [
    "## 5. 定义Tool"
   ],
   "metadata": {
    "collapsed": false
   },
   "id": "f41d183fb4bdf567"
  },
  {
   "cell_type": "code",
   "outputs": [],
   "source": [
    "from langchain.tools import BaseTool\n",
    "\n",
    "class DescribeImageTool(BaseTool):\n",
    "    name = \"Describe Image Tool\"\n",
    "    description = \"use this tool to describe an image\"\n",
    "    \n",
    "    def _run(\n",
    "        self,\n",
    "        url: str\n",
    "    ):\n",
    "        return describeImage(url)\n",
    "    \n",
    "    def _arun(\n",
    "        self,\n",
    "        query: str):\n",
    "        raise NotImplementedError(\"Async operation not supported yet\")\n",
    "    \n",
    "\n",
    "tools = [DescribeImageTool()]\n",
    "    "
   ],
   "metadata": {
    "collapsed": false
   },
   "id": "35a785a65df30921",
   "execution_count": null
  },
  {
   "cell_type": "markdown",
   "source": [
    "## 6. 创建LangChain Agent"
   ],
   "metadata": {
    "collapsed": false
   },
   "id": "a1908ccece70d41f"
  },
  {
   "cell_type": "code",
   "outputs": [],
   "source": [
    "agent = initialize_agent(\n",
    "    agent='chat-conversational-react-description',\n",
    "    tools=tools,\n",
    "    llm=llm,\n",
    "    verbose=True,\n",
    "    max_iterations=3,\n",
    "    early_stopping_methon='generate',\n",
    "    memory=ConversationBufferWindowMemory(\n",
    "        memory_key='chat_history',\n",
    "        k=5,\n",
    "        return_messages=True\n",
    "    )\n",
    ")"
   ],
   "metadata": {
    "collapsed": false
   },
   "id": "82a47b2c4053c3c9",
   "execution_count": null
  },
  {
   "cell_type": "markdown",
   "source": [
    "## 7. 使用Agent"
   ],
   "metadata": {
    "collapsed": false
   },
   "id": "53fb56888f9ef30b"
  },
  {
   "cell_type": "code",
   "outputs": [],
   "source": [
    "image_url = 'https://images.unsplash.com/photo-1705171600800-e12460074415?q=80&w=4151&auto=format&fit=crop&ixlib=rb-4.0.3&ixid=M3wxMjA3fDB8MHxwaG90by1wYWdlfHx8fGVufDB8fHx8fA%3D%3D'\n",
    "agent(f\"Describe the following image:\\n{image_url}\")"
   ],
   "metadata": {
    "collapsed": false
   },
   "id": "9355736d406a3c64"
  },
  {
   "cell_type": "code",
   "outputs": [],
   "source": [
    "image_url = 'https://images.unsplash.com/photo-1705310683793-69a58304e5ce?q=80&w=3968&auto=format&fit=crop&ixlib=rb-4.0.3&ixid=M3wxMjA3fDB8MHxwaG90by1wYWdlfHx8fGVufDB8fHx8fA%3D%3D'\n",
    "agent(f\"Describe the following image:\\n{image_url}\")"
   ],
   "metadata": {
    "collapsed": false
   },
   "id": "a0d3d3d2f6164a27"
  },
  {
   "cell_type": "code",
   "outputs": [],
   "source": [
    "agent.memory.buffer"
   ],
   "metadata": {
    "collapsed": false
   },
   "id": "1a156d76e06bdbe8"
  }
 ],
 "metadata": {
  "kernelspec": {
   "display_name": "Python 3",
   "language": "python",
   "name": "python3"
  },
  "language_info": {
   "codemirror_mode": {
    "name": "ipython",
    "version": 2
   },
   "file_extension": ".py",
   "mimetype": "text/x-python",
   "name": "python",
   "nbconvert_exporter": "python",
   "pygments_lexer": "ipython2",
   "version": "2.7.6"
  }
 },
 "nbformat": 4,
 "nbformat_minor": 5
}
